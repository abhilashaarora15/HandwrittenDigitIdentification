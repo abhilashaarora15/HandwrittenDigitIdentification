{
 "cells": [
  {
   "cell_type": "code",
   "execution_count": 96,
   "metadata": {},
   "outputs": [],
   "source": [
    "import tkinter as tk\n",
    "import numpy as np\n",
    "import cv2\n",
    "from PIL import ImageTk,Image,ImageDraw\n",
    "win=tk.Tk()\n"
   ]
  },
  {
   "cell_type": "code",
   "execution_count": 97,
   "metadata": {},
   "outputs": [],
   "source": [
    "from keras.models import load_model\n",
    "model=load_model('HandWritten')\n",
    "model.compile(loss='categorical_crossentropy',optimizer='adam',metrics=['accuracy'])"
   ]
  },
  {
   "cell_type": "code",
   "execution_count": null,
   "metadata": {},
   "outputs": [],
   "source": [
    "def event_function(event):\n",
    "    x=event.x\n",
    "    y=event.y\n",
    "    x1=x-30\n",
    "    y1=y-30\n",
    "    x2=x+30\n",
    "    y2=y+30\n",
    "    canvas.create_oval((x1,y1,x2,y2),fill=\"black\")\n",
    "    img_draw.ellipse((x1,y1,x2,y2),fill='white')\n",
    "def save():\n",
    "    global count\n",
    "    img_array=np.array(img)\n",
    "    img_array=cv2.resize(img_array,(28,28))\n",
    "    cv2.imwrite(str(count)+'.jpg',img_array)\n",
    "    count=count+1\n",
    "def clear():\n",
    "    global img,img_draw\n",
    "    canvas.delete('all')\n",
    "    img=Image.new('RGB',(500,500),(0,0,0))\n",
    "    img_draw=ImageDraw.Draw(img)\n",
    "    label_status.config(text='PREDICTED DIGIT:NONE')\n",
    "def predict():\n",
    "    img_array=np.array(img)\n",
    "    img_array=cv2.cvtColor(img_array,cv2.COLOR_BGR2GRAY)\n",
    "    img_array=cv2.resize(img_array,(28,28))\n",
    "    img_array=img_array/255.0\n",
    "    img_array=img_array.reshape(1,28,28)\n",
    "    result=model.predict(img_array)\n",
    "    label=np.argmax(result,axis=1)\n",
    "    label_status.config(text='PREDICTED DIGIT:'+str(label))\n",
    "count=0    \n",
    "canvas=tk.Canvas(win,width=500,height=500,bg='white')\n",
    "canvas.grid(row=0,column=0,columnspan=4)\n",
    "button_save=tk.Button(win,text='Save',fg='white',bg='purple',font=\"Verdana 15 bold\",command=save)\n",
    "button_save.grid(row=1,column=0)\n",
    "button_predict=tk.Button(win,text='Predict',fg='purple',bg='white',font=\"Verdana 15 bold\",command=predict)\n",
    "button_predict.grid(row=1,column=1)\n",
    "button_clear=tk.Button(win,text='Clear',fg='white',bg='purple',font=\"Verdana 15 bold\",command=clear)\n",
    "button_clear.grid(row=1,column=2)\n",
    "button_exit=tk.Button(win,text='Exit',fg='white',bg='purple',font=\"Verdana 15 bold\",command=win.destroy)\n",
    "button_exit.grid(row=1,column=3)\n",
    "label_status=tk.Label(win,text='PREDICTED DIGIT: NONE',bg='white',font='Helvetica 15 bold',borderwidth = 6,\n",
    "                       width=40,relief=\"ridge\")\n",
    "                        \n",
    "label_status.grid(row=2,column=0,columnspan=4)\n",
    "canvas.bind(\"<B1-Motion>\",event_function)\n",
    "win.mainloop()"
   ]
  },
  {
   "cell_type": "code",
   "execution_count": null,
   "metadata": {},
   "outputs": [],
   "source": [
    "img=Image.new('RGB',(500,500),(0,0,0))\n",
    "img_draw=ImageDraw.Draw(img)"
   ]
  },
  {
   "cell_type": "code",
   "execution_count": null,
   "metadata": {},
   "outputs": [],
   "source": []
  },
  {
   "cell_type": "code",
   "execution_count": null,
   "metadata": {},
   "outputs": [],
   "source": []
  }
 ],
 "metadata": {
  "kernelspec": {
   "display_name": "Python 3",
   "language": "python",
   "name": "python3"
  },
  "language_info": {
   "codemirror_mode": {
    "name": "ipython",
    "version": 3
   },
   "file_extension": ".py",
   "mimetype": "text/x-python",
   "name": "python",
   "nbconvert_exporter": "python",
   "pygments_lexer": "ipython3",
   "version": "3.8.3"
  }
 },
 "nbformat": 4,
 "nbformat_minor": 4
}
